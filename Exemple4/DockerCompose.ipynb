{
 "cells": [
  {
   "cell_type": "markdown",
   "metadata": {},
   "source": [
    "# Docker 4: Desplegar aplicacions complexes"
   ]
  },
  {
   "cell_type": "markdown",
   "metadata": {},
   "source": [
    "En general en els contenidors només s'hi col·loca un servei concret (base de dades, servidor web, etc..). Per exemple si tenim una aplicació com Wordpress caldrà tenir tenir un servidor web amb PHP i una base de dades\n",
    "\n",
    "A l'hora d'iniciar una aplicació complexa, caldrà tenir els diferents contenidors en marxa (i a vegades caldrà iniciar-los d'una forma determinada perquè sinó algun dels components no aconseguirà arrancar."
   ]
  },
  {
   "cell_type": "markdown",
   "metadata": {},
   "source": [
    "## **Docker compose**"
   ]
  },
  {
   "cell_type": "markdown",
   "metadata": {},
   "source": [
    "La solució per aconseguir iniciar sistemes complexos són els sistemes d'orquestració. En Docker aquesta funció pot ser feta per **Docker compose**. Docker Compose permet fer servir divereses imatges i comunicar-les per obtenir els requisits necessaris per fer funcionar l'aplicació."
   ]
  },
  {
   "cell_type": "markdown",
   "metadata": {},
   "source": [
    "Tot i que la funció principal és la orquestració també pot fer altres tasques com: \n",
    "\n",
    "* Construir imatges (a partir de Dockerfiles)\n",
    "* Escalar contenidors\n",
    "* Comprovar l'estat dels contenidors i reiniciar-los si han fallat"
   ]
  },
  {
   "cell_type": "markdown",
   "metadata": {},
   "source": [
    "## **Configuració**"
   ]
  },
  {
   "cell_type": "markdown",
   "metadata": {},
   "source": [
    "La configuració de l'orquestració es fa a través d'un fitxer yml: `docker-compose.yml`. En aquest fitxer s'hi especifica quins contenidors ha de tenir l'aplicació, com es construiran, quina configuració s'hi ha de definir, informació que volem que tingui, ..."
   ]
  },
  {
   "cell_type": "code",
   "execution_count": 1,
   "metadata": {},
   "outputs": [
    {
     "name": "stdout",
     "output_type": "stream",
     "text": [
      "version: '3'\n",
      "services:\n",
      "    colorsservice:\n",
      "        build: ./ColorsService\n",
      "        ports:\n",
      "         - 4567:4567\n",
      "        depends_on:\n",
      "         - db\n",
      "    db:\n",
      "        build: ./database\n",
      "    front:\n",
      "        build: ./frontend\n",
      "        depends_on:\n",
      "         - colorsservice\n"
     ]
    }
   ],
   "source": [
    "cat docker-compose.yml"
   ]
  },
  {
   "cell_type": "markdown",
   "metadata": {},
   "source": [
    "En general s'especifiquen els diferents contenidors com a serveis i se'ls hi assigna un nom. En el nostre cas són tres `colorsservice`, `db` i `front`. En versions anteriors els contenidors s'havien de lligar amb `link` però això no cal en les noves versions perquè es crea automàticament una xarxa privada."
   ]
  },
  {
   "cell_type": "markdown",
   "metadata": {},
   "source": [
    "A menys que es facin servir contenidors sense cap canvi, normalment la construcció de cada contenidor es definirà en un fitxer Dockerfile dins d'un directori"
   ]
  },
  {
   "cell_type": "code",
   "execution_count": 4,
   "metadata": {},
   "outputs": [
    {
     "name": "stdout",
     "output_type": "stream",
     "text": [
      "ColorsService/:\n",
      "dependency-reduced-pom.xml  Dockerfile  pom.xml  \u001b[0m\u001b[38;5;33msrc\u001b[0m  \u001b[38;5;33mtarget\u001b[0m\n",
      "\n",
      "database/:\n",
      "Dockerfile  mysqld_charset.cnf  setup.sql\n",
      "\n",
      "frontend/:\n",
      "Dockerfile     nginx-default.conf  package-lock.json   \u001b[38;5;33msrc\u001b[0m\n",
      "\u001b[38;5;33me2e\u001b[0m            \u001b[38;5;33mnode_modules\u001b[0m        protractor.conf.js  tsconfig.json\n",
      "karma.conf.js  package.json        README.md           tslint.json\n"
     ]
    }
   ],
   "source": [
    "ls */"
   ]
  },
  {
   "cell_type": "markdown",
   "metadata": {},
   "source": [
    "### **Servei 1: colorsservice**"
   ]
  },
  {
   "cell_type": "markdown",
   "metadata": {},
   "source": [
    "El programa que hi ha dins del contenidor és un servei REST desenvolupat en Java que funciona en el port :4567. El servei retorna un color amb el seu valor RGB\n",
    "\n",
    "![REST](javarest.png)"
   ]
  },
  {
   "cell_type": "markdown",
   "metadata": {},
   "source": [
    "Està desenvolupat en Java"
   ]
  },
  {
   "cell_type": "markdown",
   "metadata": {},
   "source": [
    "~~~java\n",
    "package net.xaviersala;\n",
    "import static spark.Spark.*;\n",
    "\n",
    "import net.xaviersala.db.ColorsDB;\n",
    "import net.xaviersala.db.MySQLColorsDB;\n",
    "import net.xaviersala.exceptions.ColorsException;\n",
    "\n",
    "public class App\n",
    "{\n",
    "\tstatic final ColorsDB servei = new MySQLColorsDB();\n",
    "\n",
    "    public static void main( String[] args )\n",
    "    {\n",
    "    \t// Obtenir el color a partir del nom\n",
    "        get(\"/color/:color\", (request, response) -> {\n",
    "        \tString elColor = request.params(\":color\");\n",
    "        \treturn servei.getColor(elColor);\n",
    "        }, new JSONTransformer());\n",
    "\n",
    "        // Obtenir el color a partir de l'ID\n",
    "        get(\"/numero/:num\", (request, response) -> {\n",
    "        \tString num = request.params(\":num\");\n",
    "        \treturn servei.getNumero(num);\n",
    "        }, new JSONTransformer());\n",
    "\n",
    "        // Obtenir en número d'ID màxim\n",
    "        get(\"/maxid\", (request, response) -> {\n",
    "            return servei.getMaxID();\n",
    "        }, new JSONTransformer());\n",
    "\n",
    "        // Mostrar l'error quan es produeix una excepció\n",
    "        exception(ColorsException.class, (exception, request, response) -> {\n",
    "            response.status(404);            \n",
    "            response.body(\"{\\\"message\\\":\\\"\" + exception.getMessage() + \"\\\"}\");\n",
    "        \treturn;\n",
    "        });\n",
    "        // Capsaleres CORS\n",
    "        before((request, response) -> {\n",
    "            response.header(\"Access-Control-Allow-Origin\", \"*\");\n",
    "            response.header(\"Access-Control-Request-Method\", \"GET\");\n",
    "            response.header(\"Access-Control-Allow-Headers\", \"*\");\n",
    "            response.type(\"application/json\");\n",
    "        });\n",
    "    }\n",
    "}\n",
    "~~~"
   ]
  },
  {
   "cell_type": "markdown",
   "metadata": {},
   "source": [
    "Si es mira el fitxer Dockerfile es pot veure que el contenidor es crea en dues fases:\n",
    "\n",
    "* FASE 1: Es parteix d'un contenidor amb Maven i el JDK al que se l'hi passa el programa i es compila\n",
    "* FASE 2: S'agafa l'executable generat i s'executa en un contenidor que té el JRE"
   ]
  },
  {
   "cell_type": "code",
   "execution_count": 5,
   "metadata": {},
   "outputs": [
    {
     "name": "stdout",
     "output_type": "stream",
     "text": [
      "FROM maven:3.5-jdk-8 as BUILD\n",
      "\n",
      "RUN mkdir /app\n",
      "COPY src /app/src\n",
      "COPY pom.xml /app\n",
      "RUN mvn -f /app/pom.xml clean package\n",
      "\n",
      "FROM openjdk:8-jre\n",
      "WORKDIR /app/\n",
      "COPY --from=BUILD /app/target/ColorsService-0.0.1-SNAPSHOT.jar color.jar\n",
      "EXPOSE 4567\n",
      "CMD [\"java\",\"-jar\",\"color.jar\"]\n"
     ]
    }
   ],
   "source": [
    "cat ColorsService/Dockerfile"
   ]
  },
  {
   "cell_type": "markdown",
   "metadata": {},
   "source": [
    "### **Servei 2: base de dades (db)**"
   ]
  },
  {
   "cell_type": "markdown",
   "metadata": {},
   "source": [
    "El servei de base de dades fa servir un contenidor de base de dades MySQL estàndard que s'ha configurat perquè tingui suport UTF-8 (charset.cnf) i perquè faci els inserts inicials"
   ]
  },
  {
   "cell_type": "code",
   "execution_count": 6,
   "metadata": {},
   "outputs": [
    {
     "name": "stdout",
     "output_type": "stream",
     "text": [
      "FROM mysql\n",
      "\n",
      "COPY mysqld_charset.cnf /etc/mysql/conf.d/mysqld_charset.cnf\n",
      "\n",
      "ENV MYSQL_ROOT_PASSWORD ies2010\n",
      "ENV MYSQL_DATABASE colors\n",
      "ENV MYSQL_USER color\n",
      "ENV MYSQL_PASSWORD ies2010\n",
      "\n",
      "ADD setup.sql /docker-entrypoint-initdb.d\n",
      "\n"
     ]
    }
   ],
   "source": [
    "cat database/Dockerfile"
   ]
  },
  {
   "cell_type": "markdown",
   "metadata": {},
   "source": [
    "El fitxer SQL és el responsable de crear la taula i fer els inserts inicials"
   ]
  },
  {
   "cell_type": "code",
   "execution_count": 8,
   "metadata": {},
   "outputs": [
    {
     "name": "stdout",
     "output_type": "stream",
     "text": [
      "DROP TABLE IF EXISTS color;\n",
      "CREATE TABLE color (id INT NOT NULL AUTO_INCREMENT, nom TEXT, rgb TEXT, PRIMARY KEY (id));\n",
      "insert into color (nom, rgb) values('Aiguamarina','#7FFFD4');\n",
      "insert into color (nom, rgb) values('Albercoc','#FBCEB1');\n",
      "insert into color (nom, rgb) values('Amarant','#E52B50');\n",
      "insert into color (nom, rgb) values('Ambre','#FFBF00');\n",
      "insert into color (nom, rgb) values('Ametista','#9966CC');\n",
      "insert into color (nom, rgb) values('Atzur','#007FFF');\n",
      "insert into color (nom, rgb) values('Beix','#F5F5DC');\n",
      "insert into color (nom, rgb) values('Bistre','#3D2B1F');\n"
     ]
    }
   ],
   "source": [
    "head database/setup.sql"
   ]
  },
  {
   "cell_type": "markdown",
   "metadata": {},
   "source": [
    "### **Servei 3: Frontend**"
   ]
  },
  {
   "cell_type": "markdown",
   "metadata": {},
   "source": [
    "El servei Frontend conté una aplicació Angular4 que es desplega en un servidor NGINX.\n",
    "\n",
    "També es crea amb dues fases:\n",
    "\n",
    "* FASE 1: Dins d'un contenidor de Node.js es genera el paquet de producció de Angular\n",
    "* FASE 2: S'agafa el directori de producció i es desplega a NGINX"
   ]
  },
  {
   "cell_type": "markdown",
   "metadata": {},
   "source": [
    "## **Execució**"
   ]
  },
  {
   "cell_type": "markdown",
   "metadata": {},
   "source": [
    "Amb una sola comanda es poden crear i desplegar tots els contenidors d'una tacada"
   ]
  },
  {
   "cell_type": "code",
   "execution_count": null,
   "metadata": {},
   "outputs": [],
   "source": [
    "docker-compose up"
   ]
  },
  {
   "cell_type": "markdown",
   "metadata": {
    "deletable": false,
    "editable": false
   },
   "source": [
    "Només cal esperar i al cap d'una estona es trobaran els contenidors en marxa (en el nostre cas, la base de dades tarda més que els altres serveis)"
   ]
  },
  {
   "cell_type": "code",
   "execution_count": 9,
   "metadata": {},
   "outputs": [
    {
     "name": "stdout",
     "output_type": "stream",
     "text": [
      "CONTAINER ID        IMAGE                   COMMAND                  CREATED              STATUS              PORTS                    NAMES\n",
      "24b0e11c9826        docker4_front           \"nginx -g 'daemon of…\"   About a minute ago   Up About a minute   80/tcp                   docker4_front_1\n",
      "0d3e8dfe974d        docker4_colorsservice   \"java -jar color.jar\"    About a minute ago   Up About a minute   0.0.0.0:4567->4567/tcp   docker4_colorsservice_1\n",
      "05b79b6bf11b        docker4_db              \"docker-entrypoint.s…\"   About a minute ago   Up About a minute   3306/tcp                 docker4_db_1\n"
     ]
    }
   ],
   "source": [
    "docker ps"
   ]
  },
  {
   "cell_type": "markdown",
   "metadata": {},
   "source": [
    "I podrem accedir al servei fàcilment amb la IP del frontend"
   ]
  },
  {
   "cell_type": "code",
   "execution_count": 10,
   "metadata": {},
   "outputs": [
    {
     "name": "stdout",
     "output_type": "stream",
     "text": [
      "            \"Secondary\u001b[01;31m\u001b[KIPAddress\u001b[m\u001b[Kes\": null,\n",
      "            \"\u001b[01;31m\u001b[KIPAddress\u001b[m\u001b[K\": \"\",\n",
      "                    \"\u001b[01;31m\u001b[KIPAddress\u001b[m\u001b[K\": \"172.17.0.4\",\n"
     ]
    }
   ],
   "source": [
    "docker inspect docker4_front_1 | grep IPAddress"
   ]
  },
  {
   "cell_type": "markdown",
   "metadata": {},
   "source": [
    "Com que és un servidor web només cal posar l'adreça al navegador...\n",
    "\n",
    "![App](frontend.png)\n",
    "\n",
    "Clicant-hi a sobre amb el ratolí es regeneren tots els colors de la pantalla"
   ]
  },
  {
   "cell_type": "markdown",
   "metadata": {},
   "source": [
    "Es pot veure que s'ha creat una xarxa que contindrà el grup de contenidors (docker4_default). Però es pot refinar tant com calgui i generar tantes xarxes com calgui"
   ]
  },
  {
   "cell_type": "code",
   "execution_count": 12,
   "metadata": {},
   "outputs": [
    {
     "name": "stdout",
     "output_type": "stream",
     "text": [
      "NETWORK ID          NAME                DRIVER              SCOPE\n",
      "aa83f2871cb4        bridge              bridge              local\n",
      "6466f2259bea        docker4_default     bridge              local\n",
      "6f1571c024be        host                host                local\n",
      "d3d479e5ce72        none                null                local\n"
     ]
    }
   ],
   "source": [
    "docker network ls"
   ]
  },
  {
   "cell_type": "markdown",
   "metadata": {},
   "source": [
    "Amb les comandes `docker network` se'n poden veure les característiques"
   ]
  },
  {
   "cell_type": "markdown",
   "metadata": {},
   "source": [
    "En cas de voler aturar-ho tot n'hi ha prou amb executar"
   ]
  },
  {
   "cell_type": "code",
   "execution_count": null,
   "metadata": {},
   "outputs": [],
   "source": [
    "docker-compose down"
   ]
  },
  {
   "cell_type": "markdown",
   "metadata": {},
   "source": [
    "### **Escalat**"
   ]
  },
  {
   "cell_type": "markdown",
   "metadata": {},
   "source": [
    "Docker-compose és una eina que permet fer moltes coses a part d'iniciar contenidors:\n",
    "\n",
    "* Iniciar, aturar i construir serveis\n",
    "* Veure l'estat dels serveis en execució\n",
    "* Veure els logs dels serveis\n",
    "* Executar una comanda en un servei\n",
    "* Escalar un servei a múltiples instàncies\n"
   ]
  },
  {
   "cell_type": "markdown",
   "metadata": {
    "deletable": false,
    "editable": false
   },
   "source": [
    "Una de les coses que permet docker-compose i que és un gran avantatge a l'hora de desplegar un servei és la facilitat amb la que aquest servei pot ser escalat. Per exemple podem fer que hi hagi tres instàncies del servei `colorsservice`:"
   ]
  },
  {
   "cell_type": "code",
   "execution_count": null,
   "metadata": {},
   "outputs": [],
   "source": [
    "docker-compose up --scale colorsservice=3"
   ]
  },
  {
   "cell_type": "markdown",
   "metadata": {},
   "source": [
    "Tornar a iniciar els contenidors que s'han aturat"
   ]
  },
  {
   "cell_type": "code",
   "execution_count": null,
   "metadata": {},
   "outputs": [],
   "source": [
    "docker-compose up --no-recreate"
   ]
  }
 ],
 "metadata": {
  "kernelspec": {
   "display_name": "Bash",
   "language": "bash",
   "name": "bash"
  },
  "language_info": {
   "codemirror_mode": "shell",
   "file_extension": ".sh",
   "mimetype": "text/x-sh",
   "name": "bash"
  }
 },
 "nbformat": 4,
 "nbformat_minor": 2
}
