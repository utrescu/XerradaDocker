{
 "cells": [
  {
   "cell_type": "markdown",
   "metadata": {},
   "source": [
    "## Docker 3: Crear contenidors per ser desplegats"
   ]
  },
  {
   "cell_type": "markdown",
   "metadata": {},
   "source": [
    "Un cop acabada l'aplicació Docker també permetrà empaquetar-la en una imatge que posteriorment es podrà desplegar en l'ordinador de producció. "
   ]
  },
  {
   "cell_type": "markdown",
   "metadata": {},
   "source": [
    "### Fitxers Dockerfile"
   ]
  },
  {
   "cell_type": "markdown",
   "metadata": {},
   "source": [
    "Els fitxers Dockerfile permeten definir les passes que fan falta per crear una imatge Docker amb la nostra aplicació a dins. Hi ha comandes per personalitzar tant com es vulgui la creació de la nova imatge."
   ]
  },
  {
   "cell_type": "markdown",
   "metadata": {},
   "source": [
    "En general partim d'una imatge existent"
   ]
  },
  {
   "cell_type": "markdown",
   "metadata": {},
   "source": [
    "    FROM httpd"
   ]
  },
  {
   "cell_type": "markdown",
   "metadata": {},
   "source": [
    "I li diem quins canvis són els que li volem fer: \n",
    "\n",
    "| Comanda | Funció |\n",
    "| --------------- | --------------------------------------------------------------------------------------------------- |\n",
    "| **RUN**         | Comandes a executar en el contenidor en temps de creació(normalment instal·lació de paquets)        |\n",
    "| **ENTRYPOINT**  | Comanda que s'ha d'exectuar al iniciar el contenidor                                                |\n",
    "| **CMD**         | Només n'hi pot haver un. Defineix què s'executa al iniciar el contenidor. (o paràmetres de ENTRYPOINT |\n",
    "| **EXPOSE**      | Informa que el contenidor escoltarà per un port determinat en temps d'execució                      |\n",
    "| **ENV**         | Defineix variables d'entorn que es passaran a un RUN futur. Els seus valors encara estaran disponibles en temps d'execució |\n",
    "| **ADD**         | Còpia fitxers des d'un lloc local a dins del contenidor (permet URLs)                               |\n",
    "| **COPY**        | Còpia fitxers des d'un lloc local a dins del contenidor |\n",
    "| **VOLUME**      | Defineix un volum de dades pel contenidor |\n",
    "| **USER**        | Defineix l'usuari que es farà servir al executar la imatge en els RUN següents |\n",
    "| **WORKDIR**     | Directori on es faran els RUN, CMD i ENTRYPOINT |\n",
    "| **ONBUILD**     | Coses a fer quan es faci una imatge a partir de la que es crea |\n"
   ]
  },
  {
   "cell_type": "markdown",
   "metadata": {},
   "source": [
    "### Empaquetar una aplicació"
   ]
  },
  {
   "cell_type": "markdown",
   "metadata": {},
   "source": [
    "Tenim una aplicació en Node.js que volem empaquetar en una imatge per poder-la distribuïr:"
   ]
  },
  {
   "cell_type": "code",
   "execution_count": 1,
   "metadata": {},
   "outputs": [
    {
     "name": "stdout",
     "output_type": "stream",
     "text": [
      "const http = require('http');\n",
      "const os = require('os');\n",
      "var handler = function (request, response) {\n",
      "   response.writeHead(200);\n",
      "   response.end(\"Hostname: \" + os.hostname() + \"!\\n\");\n",
      "};\n",
      "var www = http.createServer(handler);\n",
      "www.listen(8080);\n"
     ]
    }
   ],
   "source": [
    "cat app.js"
   ]
  },
  {
   "cell_type": "markdown",
   "metadata": {},
   "source": [
    "#### Definir com s'ha d'empaquetar l'aplicació"
   ]
  },
  {
   "cell_type": "markdown",
   "metadata": {},
   "source": [
    "Com que es tracta d'una aplicació en Node partim d'una imatge que ja té Node.JS instal·lat. En el [repositori oficial](https://hub.docker.com/_/node/) podem veure'n el nom i les versions disponibles:"
   ]
  },
  {
   "cell_type": "markdown",
   "metadata": {},
   "source": [
    "    FROM node:8"
   ]
  },
  {
   "cell_type": "markdown",
   "metadata": {},
   "source": [
    "A la imatge obtinguda li hem de carregar l'aplicació que volem desplegar"
   ]
  },
  {
   "cell_type": "markdown",
   "metadata": {},
   "source": [
    "    ADD app.js /app.js"
   ]
  },
  {
   "cell_type": "markdown",
   "metadata": {},
   "source": [
    "I també què és el que s'ha d'executar quan es crei un contenidor. Com que és una aplicació de node l'executem amb `node` i el nom de l'arxiu `app.js`:  "
   ]
  },
  {
   "cell_type": "markdown",
   "metadata": {},
   "source": [
    "    CMD node app.js"
   ]
  },
  {
   "cell_type": "markdown",
   "metadata": {},
   "source": [
    "El resultat serà un fitxer `Dockerfile` amb aquest contingut: "
   ]
  },
  {
   "cell_type": "code",
   "execution_count": 2,
   "metadata": {},
   "outputs": [
    {
     "name": "stdout",
     "output_type": "stream",
     "text": [
      "FROM node:8\n",
      "RUN mkdir /mariner\n",
      "WORKDIR /mariner\n",
      "ADD app.js /mariner/app.js\n",
      "CMD node app.js\n"
     ]
    }
   ],
   "source": [
    "cat Dockerfile"
   ]
  },
  {
   "cell_type": "markdown",
   "metadata": {},
   "source": [
    "L'he complicat innecessariament posant l'aplicació en un directori per veure les comandes WORKDIR i RUN"
   ]
  },
  {
   "cell_type": "markdown",
   "metadata": {},
   "source": [
    "#### Empaquetar"
   ]
  },
  {
   "cell_type": "markdown",
   "metadata": {},
   "source": [
    "Per crear la imatge només cal executar la comanda `build` i donar-li un nom (ha de començar amb l'username de Docker Hub si li volem enviar)"
   ]
  },
  {
   "cell_type": "code",
   "execution_count": null,
   "metadata": {},
   "outputs": [],
   "source": [
    "docker build -t utrescu/mariner ."
   ]
  },
  {
   "cell_type": "markdown",
   "metadata": {},
   "source": [
    "Que es descarregarà la imatge base (si no la té) i l'empaquetarà seguint les instruccions que li hem donat"
   ]
  },
  {
   "cell_type": "markdown",
   "metadata": {},
   "source": [
    "    Sending build context to Docker daemon  10.75kB\n",
    "    Step 1/5 : FROM node:8\n",
    "    8: Pulling from library/node\n",
    "    4176fe04cefe: Pull complete \n",
    "    851356ecf618: Pull complete \n",
    "    6115379c7b49: Pull complete \n",
    "    aaf7d781d601: Pull complete \n",
    "    936f8420f2e4: Pull complete \n",
    "    b098f1cb38c6: Pull complete \n",
    "    158bd11ba716: Pull complete \n",
    "    7c31a2433b70: Pull complete \n",
    "    Digest: sha256:30627901c9b8b73d51468ed66ac72c6235012b30977df237d20ac64f814aa437\n",
    "    Status: Downloaded newer image for node:8\n",
    "     ---> 292a11903b0d\n",
    "    Step 2/5 : RUN mkdir /mariner\n",
    "     ---> Running in 7608203534c4\n",
    "    Removing intermediate container 7608203534c4\n",
    "     ---> 53337a7ecde2\n",
    "    Step 3/5 : WORKDIR /mariner\n",
    "    Removing intermediate container 0f107d08861a\n",
    "     ---> 8460d6effa02\n",
    "    Step 4/5 : ADD app.js /mariner/app.js\n",
    "     ---> 170474dd2dc5\n",
    "    Step 5/5 : CMD node app.js\n",
    "     ---> Running in 73cf088cbd5d\n",
    "    Removing intermediate container 73cf088cbd5d\n",
    "     ---> 18bd729e88d9\n",
    "    Successfully built 18bd729e88d9\n",
    "    Successfully tagged utrescu/mariner:latest"
   ]
  },
  {
   "cell_type": "markdown",
   "metadata": {},
   "source": [
    "La imatge ja estarà disponible en el nostre repositori local: "
   ]
  },
  {
   "cell_type": "code",
   "execution_count": 1,
   "metadata": {},
   "outputs": [
    {
     "name": "stdout",
     "output_type": "stream",
     "text": [
      "REPOSITORY          TAG                 IMAGE ID            CREATED             SIZE\n",
      "mariner             latest              18bd729e88d9        6 hours ago         676MB\n",
      "node                8                   292a11903b0d        9 hours ago         676MB\n",
      "nginx               latest              9e988ed19567        16 hours ago        109MB\n",
      "mysql               latest              f008d8ff927d        4 weeks ago         409MB\n",
      "ubuntu              latest              00fd29ccc6f1        2 months ago        111MB\n"
     ]
    }
   ],
   "source": [
    "docker images"
   ]
  },
  {
   "cell_type": "markdown",
   "metadata": {},
   "source": [
    "I el podem executar normalment: "
   ]
  },
  {
   "cell_type": "code",
   "execution_count": null,
   "metadata": {},
   "outputs": [],
   "source": [
    "docker run --name mar -d mariner"
   ]
  },
  {
   "cell_type": "markdown",
   "metadata": {},
   "source": [
    "Si miro quina és l'adreça IP del contenidor: "
   ]
  },
  {
   "cell_type": "code",
   "execution_count": 4,
   "metadata": {},
   "outputs": [
    {
     "name": "stdout",
     "output_type": "stream",
     "text": [
      "            \"Secondary\u001b[01;31m\u001b[KIPAddress\u001b[m\u001b[Kes\": null,\n",
      "            \"\u001b[01;31m\u001b[KIPAddress\u001b[m\u001b[K\": \"172.99.0.3\",\n",
      "                    \"\u001b[01;31m\u001b[KIPAddress\u001b[m\u001b[K\": \"172.99.0.3\",\n"
     ]
    }
   ],
   "source": [
    "docker inspect mar | grep IPAddress"
   ]
  },
  {
   "cell_type": "markdown",
   "metadata": {},
   "source": [
    "I podrem accedir a la seva web anant amb el navegador a la IP que té el contenidor http://172.99.0.3:8080"
   ]
  },
  {
   "cell_type": "markdown",
   "metadata": {},
   "source": [
    "### Exportar la imatge"
   ]
  },
  {
   "cell_type": "markdown",
   "metadata": {},
   "source": [
    "#### Manualment"
   ]
  },
  {
   "cell_type": "markdown",
   "metadata": {},
   "source": [
    "Podem exportar a un arxiu `tar` la imatge acabada de generar fent servir la opció `save`"
   ]
  },
  {
   "cell_type": "code",
   "execution_count": null,
   "metadata": {},
   "outputs": [],
   "source": [
    "docker save utrescu/mariner > mariner.tar"
   ]
  },
  {
   "cell_type": "markdown",
   "metadata": {},
   "source": [
    "El resultat es podrà distribuir amb el mètode que es vulgui al destí (que ha de tenir Docker instal·lat) el el que podrà importar amb `load`"
   ]
  },
  {
   "cell_type": "code",
   "execution_count": null,
   "metadata": {},
   "outputs": [],
   "source": [
    "docker load < /tmp/mariner.tar"
   ]
  },
  {
   "cell_type": "markdown",
   "metadata": {},
   "source": [
    "#### A través de Docker Hub"
   ]
  },
  {
   "cell_type": "markdown",
   "metadata": {},
   "source": [
    "Es poden enviar les imatges per la xarxa al compte de Docker Hub des de la mateixa línia de comandes. Però requereix que la imatge estigui etiquetada amb l'usuari que tinguem de Docker Hub.\n",
    "\n",
    "Per exemple si l'usuari és `pere`, el nom de la imatge ha de ser `utrescu/mariner`"
   ]
  },
  {
   "cell_type": "code",
   "execution_count": null,
   "metadata": {},
   "outputs": [],
   "source": [
    "docker login"
   ]
  },
  {
   "cell_type": "code",
   "execution_count": null,
   "metadata": {},
   "outputs": [],
   "source": [
    "docker push utrescu/mariner"
   ]
  }
 ],
 "metadata": {
  "kernelspec": {
   "display_name": "Bash",
   "language": "bash",
   "name": "bash"
  },
  "language_info": {
   "codemirror_mode": "shell",
   "file_extension": ".sh",
   "mimetype": "text/x-sh",
   "name": "bash"
  }
 },
 "nbformat": 4,
 "nbformat_minor": 2
}
