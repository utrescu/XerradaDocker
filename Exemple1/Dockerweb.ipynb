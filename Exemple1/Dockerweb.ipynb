{
 "cells": [
  {
   "cell_type": "markdown",
   "metadata": {},
   "source": [
    "## Docker 1: Desplegar aplicació web"
   ]
  },
  {
   "cell_type": "markdown",
   "metadata": {},
   "source": [
    "Docker es pot fer servir per poder treballar amb alguna aplicació web que necessiti un servidor però sense instal·lar-ne cap en el sistema on desenvolupem."
   ]
  },
  {
   "cell_type": "markdown",
   "metadata": {},
   "source": [
    "### Descarregar una imatge"
   ]
  },
  {
   "cell_type": "markdown",
   "metadata": {},
   "source": [
    "En el repositori oficial d'imatges hi podem trobar la majoria dels servidors web de codi obert preinstal·lats: [nginx](https://hub.docker.com/_/nginx/), [Apache httpd](https://hub.docker.com/_/httpd/), [Tomcat](https://hub.docker.com/_/tomcat/) i fins i tot amb algun plugin instal·lat [Apache amb PHP](https://hub.docker.com/_/php/), [Wordpress](https://hub.docker.com/_/wordpress/), ..."
   ]
  },
  {
   "cell_type": "markdown",
   "metadata": {},
   "source": [
    "En aquest moment tenim un fitxer HTML en el directori que volem veure a través d'un servidor web (no és cap meravella)"
   ]
  },
  {
   "cell_type": "code",
   "execution_count": 1,
   "metadata": {},
   "outputs": [
    {
     "name": "stdout",
     "output_type": "stream",
     "text": [
      "<!DOCTYPE html>\n",
      "<html lang=\"ca\">\n",
      "<head>\n",
      "    <meta charset=\"UTF-8\">\n",
      "    <meta name=\"viewport\" content=\"width=device-width, initial-scale=1.0\">\n",
      "    <meta http-equiv=\"X-UA-Compatible\" content=\"ie=edge\">\n",
      "    <title>Pàgina de prova</title>\n",
      "</head>\n",
      "<body>\n",
      "    <h1>Hola!</h1>\n",
      "</body>\n",
      "</html>"
     ]
    }
   ],
   "source": [
    "cat index.html"
   ]
  },
  {
   "cell_type": "markdown",
   "metadata": {},
   "source": [
    "Podem mostrar-lo en un contenidor Docker que tingui `nginx` instal·lat amb la comanda següent:"
   ]
  },
  {
   "cell_type": "markdown",
   "metadata": {},
   "source": [
    "docker run --name server -p 8080:80 -v $PWD:/usr/share/nginx/html:ro -d nginx"
   ]
  },
  {
   "cell_type": "markdown",
   "metadata": {},
   "source": [
    "Bàsicament li estem dient que:\n",
    "\n",
    "* El nom del contenidor serà `server` (--name)\n",
    "* S'hi podrà accedir en el port local `8080` que es mapeja amb `80` (-p). O sigui amb [http://localhost:8080](http://localhost:8080) \n",
    "* Que la carpeta arrel d'NGINX sigui la mateix que la del directori local on estem `$PWD` (-v)\n",
    "* Que el contenidor s'inicii com a daemon (-d)"
   ]
  },
  {
   "cell_type": "markdown",
   "metadata": {},
   "source": [
    "Si no està en el repositori local començarà a descarregar-lo:"
   ]
  },
  {
   "cell_type": "markdown",
   "metadata": {},
   "source": [
    "    8176e34d5d92: Downloading  22.05MB/22.5MB\n",
    "    cb1142c3ae99: Downloading  19.25MB/21.95MB\n",
    "    45b531966c63: Download complete"
   ]
  },
  {
   "cell_type": "markdown",
   "metadata": {},
   "source": [
    "Un cop hagi acabat es mostrarà el fitxer `index.html` que hi ha en el directori actual (que és el que hem posat en la comanda `$PWD`"
   ]
  },
  {
   "cell_type": "markdown",
   "metadata": {},
   "source": [
    "![servidor](webserver2.png)"
   ]
  },
  {
   "cell_type": "markdown",
   "metadata": {},
   "source": [
    "Si es canvia qualsevol cosa també canviarà el que es visualitza en el navegador"
   ]
  }
 ],
 "metadata": {
  "kernelspec": {
   "display_name": "Bash",
   "language": "bash",
   "name": "bash"
  },
  "language_info": {
   "codemirror_mode": "shell",
   "file_extension": ".sh",
   "mimetype": "text/x-sh",
   "name": "bash"
  }
 },
 "nbformat": 4,
 "nbformat_minor": 2
}
