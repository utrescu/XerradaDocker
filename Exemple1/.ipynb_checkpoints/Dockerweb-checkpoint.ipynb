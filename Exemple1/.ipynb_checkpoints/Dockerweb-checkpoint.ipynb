{
 "cells": [
  {
   "cell_type": "markdown",
   "metadata": {},
   "source": [
    "## Docker 1: Desplegar aplicació web"
   ]
  },
  {
   "cell_type": "markdown",
   "metadata": {},
   "source": [
    "Docker es pot fer servir per poder treballar amb alguna aplicació web que necessiti un servidor però sense instal·lar-ne cap en el sistema on desenvolupem."
   ]
  },
  {
   "cell_type": "markdown",
   "metadata": {},
   "source": [
    "### Descarregar una imatge"
   ]
  },
  {
   "cell_type": "markdown",
   "metadata": {},
   "source": [
    "En el repositori oficial d'imatges hi podem trobar la majoria dels servidors web de codi obert preinstal·lats: [nginx](https://hub.docker.com/_/nginx/), [Apache httpd](https://hub.docker.com/_/httpd/), [Tomcat](https://hub.docker.com/_/tomcat/) i fins i tot amb algun plugin instal·lat [Apache amb PHP](https://hub.docker.com/_/php/), [Wordpress](https://hub.docker.com/_/wordpress/), ..."
   ]
  },
  {
   "cell_type": "markdown",
   "metadata": {},
   "source": [
    "Per poder-los usar només cal executar una imatge amb Docker i si no la tenim en caché es descarregarà automàticament: "
   ]
  },
  {
   "cell_type": "markdown",
   "metadata": {},
   "source": [
    "    docker run --name server -p 8080:80\n",
    "           -v $PWD:/usr/share/nginx/html:ro\n",
    "           -d nginx"
   ]
  },
  {
   "cell_type": "markdown",
   "metadata": {},
   "source": [
    "    8176e34d5d92: Downloading  22.05MB/22.5MB\n",
    "    cb1142c3ae99: Downloading  19.25MB/21.95MB\n",
    "    45b531966c63: Download complete"
   ]
  },
  {
   "cell_type": "markdown",
   "metadata": {},
   "source": [
    "Després d'això tindrem el servidor web en marxa al port 8080\n",
    "\n",
    "![web](webserver.png)"
   ]
  },
  {
   "cell_type": "markdown",
   "metadata": {},
   "source": [
    "En tenim prou amb crear el fitxer index.php en el directori perquè el servidor ens seveixi la pàgina"
   ]
  },
  {
   "cell_type": "markdown",
   "metadata": {},
   "source": [
    "    <!DOCTYPE html>\n",
    "    <html lang=\"en\">\n",
    "\n",
    "    <head>\n",
    "        <meta charset=\"UTF-8\">\n",
    "        <meta name=\"viewport\" content=\"width=device-width, initial-scale=1.0\">\n",
    "        <meta http-equiv=\"X-UA-Compatible\" content=\"ie=edge\">\n",
    "        <title>Pàgina de prova</title>\n",
    "    </head>\n",
    "    <body>\n",
    "        <h1>Hola!</h1>\n",
    "    </body>\n",
    "    </html>"
   ]
  },
  {
   "cell_type": "markdown",
   "metadata": {},
   "source": [
    "![servidor](webserver2.png)"
   ]
  }
 ],
 "metadata": {
  "kernelspec": {
   "display_name": "Bash",
   "language": "bash",
   "name": "bash"
  },
  "language_info": {
   "codemirror_mode": "shell",
   "file_extension": ".sh",
   "mimetype": "text/x-sh",
   "name": "bash"
  }
 },
 "nbformat": 4,
 "nbformat_minor": 2
}
